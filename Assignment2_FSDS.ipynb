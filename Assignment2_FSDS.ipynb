{
 "cells": [
  {
   "cell_type": "markdown",
   "id": "83c6713a",
   "metadata": {},
   "source": [
    "Q1."
   ]
  },
  {
   "cell_type": "markdown",
   "id": "43f50ba2",
   "metadata": {},
   "source": [
    "Two values of Boolean Datatype are True, False"
   ]
  },
  {
   "cell_type": "code",
   "execution_count": 4,
   "id": "977897f8",
   "metadata": {},
   "outputs": [],
   "source": [
    "a = True\n",
    "b = False"
   ]
  },
  {
   "cell_type": "markdown",
   "id": "471708b6",
   "metadata": {},
   "source": [
    "Q2."
   ]
  },
  {
   "cell_type": "markdown",
   "id": "9616e3de",
   "metadata": {},
   "source": [
    "Three types of Boolean operatores:\n",
    "    a.Comparison Operators\n",
    "    b.Binary Boolean Operators\n",
    "    c.Not Operator"
   ]
  },
  {
   "cell_type": "code",
   "execution_count": 7,
   "id": "468ccdc3",
   "metadata": {},
   "outputs": [
    {
     "data": {
      "text/plain": [
       "False"
      ]
     },
     "execution_count": 7,
     "metadata": {},
     "output_type": "execute_result"
    }
   ],
   "source": [
    "a=2\n",
    "a == 10  #comparison operator"
   ]
  },
  {
   "cell_type": "code",
   "execution_count": 8,
   "id": "cb263c0b",
   "metadata": {},
   "outputs": [
    {
     "data": {
      "text/plain": [
       "True"
      ]
     },
     "execution_count": 8,
     "metadata": {},
     "output_type": "execute_result"
    }
   ],
   "source": [
    "a = True\n",
    "b = False\n",
    "a or b          #binary boolean operator"
   ]
  },
  {
   "cell_type": "code",
   "execution_count": 9,
   "id": "038dfd1c",
   "metadata": {},
   "outputs": [
    {
     "data": {
      "text/plain": [
       "False"
      ]
     },
     "execution_count": 9,
     "metadata": {},
     "output_type": "execute_result"
    }
   ],
   "source": [
    "a = True\n",
    "not a           #not operator"
   ]
  },
  {
   "cell_type": "markdown",
   "id": "a85be3f6",
   "metadata": {},
   "source": [
    "Q3."
   ]
  },
  {
   "cell_type": "markdown",
   "id": "e21277d7",
   "metadata": {},
   "source": [
    "a.Comparison Operators"
   ]
  },
  {
   "cell_type": "code",
   "execution_count": 10,
   "id": "5426940a",
   "metadata": {},
   "outputs": [
    {
     "data": {
      "text/plain": [
       "False"
      ]
     },
     "execution_count": 10,
     "metadata": {},
     "output_type": "execute_result"
    }
   ],
   "source": [
    "a = 5\n",
    "a == 1\n"
   ]
  },
  {
   "cell_type": "code",
   "execution_count": 11,
   "id": "6b8a72d9",
   "metadata": {},
   "outputs": [
    {
     "data": {
      "text/plain": [
       "True"
      ]
     },
     "execution_count": 11,
     "metadata": {},
     "output_type": "execute_result"
    }
   ],
   "source": [
    "a != 10\n"
   ]
  },
  {
   "cell_type": "code",
   "execution_count": 12,
   "id": "c40449a4",
   "metadata": {},
   "outputs": [
    {
     "data": {
      "text/plain": [
       "False"
      ]
     },
     "execution_count": 12,
     "metadata": {},
     "output_type": "execute_result"
    }
   ],
   "source": [
    "\n",
    "a != 5\n",
    "\n"
   ]
  },
  {
   "cell_type": "code",
   "execution_count": 13,
   "id": "31cac490",
   "metadata": {},
   "outputs": [
    {
     "data": {
      "text/plain": [
       "False"
      ]
     },
     "execution_count": 13,
     "metadata": {},
     "output_type": "execute_result"
    }
   ],
   "source": [
    "a > 10"
   ]
  },
  {
   "cell_type": "code",
   "execution_count": 14,
   "id": "9d46290c",
   "metadata": {},
   "outputs": [
    {
     "data": {
      "text/plain": [
       "True"
      ]
     },
     "execution_count": 14,
     "metadata": {},
     "output_type": "execute_result"
    }
   ],
   "source": [
    "a < 12"
   ]
  },
  {
   "cell_type": "code",
   "execution_count": 15,
   "id": "cd57bcb0",
   "metadata": {},
   "outputs": [
    {
     "data": {
      "text/plain": [
       "True"
      ]
     },
     "execution_count": 15,
     "metadata": {},
     "output_type": "execute_result"
    }
   ],
   "source": [
    "a >= 1"
   ]
  },
  {
   "cell_type": "code",
   "execution_count": 16,
   "id": "670e793b",
   "metadata": {},
   "outputs": [
    {
     "data": {
      "text/plain": [
       "True"
      ]
     },
     "execution_count": 16,
     "metadata": {},
     "output_type": "execute_result"
    }
   ],
   "source": [
    "a <= 7"
   ]
  },
  {
   "cell_type": "markdown",
   "id": "5f8101f9",
   "metadata": {},
   "source": [
    "b.binary boolean operator"
   ]
  },
  {
   "cell_type": "code",
   "execution_count": 17,
   "id": "9cd46cc4",
   "metadata": {},
   "outputs": [
    {
     "data": {
      "text/plain": [
       "False"
      ]
     },
     "execution_count": 17,
     "metadata": {},
     "output_type": "execute_result"
    }
   ],
   "source": [
    "a = True\n",
    "b = False\n",
    "a and b"
   ]
  },
  {
   "cell_type": "code",
   "execution_count": 18,
   "id": "c4dd6836",
   "metadata": {},
   "outputs": [
    {
     "data": {
      "text/plain": [
       "True"
      ]
     },
     "execution_count": 18,
     "metadata": {},
     "output_type": "execute_result"
    }
   ],
   "source": [
    "a or b\n"
   ]
  },
  {
   "cell_type": "markdown",
   "id": "7711109e",
   "metadata": {},
   "source": [
    "c.not operator"
   ]
  },
  {
   "cell_type": "code",
   "execution_count": 19,
   "id": "704dbf02",
   "metadata": {},
   "outputs": [
    {
     "data": {
      "text/plain": [
       "False"
      ]
     },
     "execution_count": 19,
     "metadata": {},
     "output_type": "execute_result"
    }
   ],
   "source": [
    "a = True\n",
    "not a"
   ]
  },
  {
   "cell_type": "code",
   "execution_count": 20,
   "id": "7be48dd3",
   "metadata": {},
   "outputs": [
    {
     "data": {
      "text/plain": [
       "True"
      ]
     },
     "execution_count": 20,
     "metadata": {},
     "output_type": "execute_result"
    }
   ],
   "source": [
    "not not a"
   ]
  },
  {
   "cell_type": "markdown",
   "id": "acc88123",
   "metadata": {},
   "source": [
    "Q4."
   ]
  },
  {
   "cell_type": "code",
   "execution_count": 21,
   "id": "f178cccb",
   "metadata": {},
   "outputs": [
    {
     "data": {
      "text/plain": [
       "False"
      ]
     },
     "execution_count": 21,
     "metadata": {},
     "output_type": "execute_result"
    }
   ],
   "source": [
    "(5>4) and (3==5)"
   ]
  },
  {
   "cell_type": "code",
   "execution_count": 22,
   "id": "e5929da0",
   "metadata": {},
   "outputs": [
    {
     "data": {
      "text/plain": [
       "False"
      ]
     },
     "execution_count": 22,
     "metadata": {},
     "output_type": "execute_result"
    }
   ],
   "source": [
    "not(5>4)"
   ]
  },
  {
   "cell_type": "code",
   "execution_count": 23,
   "id": "f5c392e8",
   "metadata": {},
   "outputs": [
    {
     "data": {
      "text/plain": [
       "True"
      ]
     },
     "execution_count": 23,
     "metadata": {},
     "output_type": "execute_result"
    }
   ],
   "source": [
    "(5>4) or (3==5)"
   ]
  },
  {
   "cell_type": "code",
   "execution_count": 24,
   "id": "8db62e76",
   "metadata": {},
   "outputs": [
    {
     "data": {
      "text/plain": [
       "False"
      ]
     },
     "execution_count": 24,
     "metadata": {},
     "output_type": "execute_result"
    }
   ],
   "source": [
    "not((5>4) or (3==5))"
   ]
  },
  {
   "cell_type": "code",
   "execution_count": 25,
   "id": "9b9f05eb",
   "metadata": {},
   "outputs": [
    {
     "data": {
      "text/plain": [
       "False"
      ]
     },
     "execution_count": 25,
     "metadata": {},
     "output_type": "execute_result"
    }
   ],
   "source": [
    "(True and True) and (True == False)"
   ]
  },
  {
   "cell_type": "code",
   "execution_count": 26,
   "id": "dd04ecea",
   "metadata": {},
   "outputs": [
    {
     "data": {
      "text/plain": [
       "True"
      ]
     },
     "execution_count": 26,
     "metadata": {},
     "output_type": "execute_result"
    }
   ],
   "source": [
    "(not False) or (not True)"
   ]
  },
  {
   "cell_type": "markdown",
   "id": "88376a43",
   "metadata": {},
   "source": [
    "Q5."
   ]
  },
  {
   "cell_type": "markdown",
   "id": "5e16ccd9",
   "metadata": {},
   "source": [
    "> , < , == , >= , <= , !="
   ]
  },
  {
   "cell_type": "markdown",
   "id": "3b361922",
   "metadata": {},
   "source": [
    "Q6."
   ]
  },
  {
   "cell_type": "markdown",
   "id": "b916fb0e",
   "metadata": {},
   "source": [
    "equal to is a comparison operator and is written as == \n",
    "whereas assignment operator is used to assign a value to a variable and is written as ="
   ]
  },
  {
   "cell_type": "code",
   "execution_count": 27,
   "id": "8a79f4f7",
   "metadata": {},
   "outputs": [
    {
     "data": {
      "text/plain": [
       "True"
      ]
     },
     "execution_count": 27,
     "metadata": {},
     "output_type": "execute_result"
    }
   ],
   "source": [
    "a = 5    # assignment operator, assigning 5 to a\n",
    "a == 5  # comparison operator, comparing if a is equals to 5."
   ]
  },
  {
   "cell_type": "markdown",
   "id": "07363702",
   "metadata": {},
   "source": [
    "Q7.\n"
   ]
  },
  {
   "cell_type": "code",
   "execution_count": 30,
   "id": "3926e8fe",
   "metadata": {},
   "outputs": [
    {
     "name": "stdout",
     "output_type": "stream",
     "text": [
      "ham\n",
      "spam\n",
      "spam\n"
     ]
    }
   ],
   "source": [
    "spam = 0\n",
    "if spam == 10:     #Block 1\n",
    "    print(\"eggs\")\n",
    "if spam >5:        #Block 2\n",
    "    print(\"bacon\")\n",
    "else:\n",
    "    print(\"ham\")\n",
    "print(\"spam\")      #Block 3\n",
    "print(\"spam\")"
   ]
  },
  {
   "cell_type": "markdown",
   "id": "b885cdc9",
   "metadata": {},
   "source": [
    "Q8."
   ]
  },
  {
   "cell_type": "code",
   "execution_count": 32,
   "id": "7414d6b2",
   "metadata": {},
   "outputs": [
    {
     "name": "stdout",
     "output_type": "stream",
     "text": [
      "Enter any number45\n",
      "Greetings!\n"
     ]
    }
   ],
   "source": [
    "spam = input(\"Enter any number\")\n",
    "if spam == 1:\n",
    "    print(\"Hello\")\n",
    "elif spam == 2:\n",
    "    print(\"Howdy\")\n",
    "else:\n",
    "    print(\"Greetings!\")"
   ]
  },
  {
   "cell_type": "markdown",
   "id": "8b5debfe",
   "metadata": {},
   "source": [
    "Q9."
   ]
  },
  {
   "cell_type": "markdown",
   "id": "f31b4065",
   "metadata": {},
   "source": [
    "to break the endless loop, which can be done by pressing Ctrl+C"
   ]
  },
  {
   "cell_type": "markdown",
   "id": "3e3ff269",
   "metadata": {},
   "source": [
    "Q10."
   ]
  },
  {
   "cell_type": "code",
   "execution_count": 35,
   "id": "7d350dc8",
   "metadata": {},
   "outputs": [
    {
     "name": "stdout",
     "output_type": "stream",
     "text": [
      "Hi\n",
      "0\n",
      "Hi\n",
      "1\n",
      "Hi\n",
      "2\n",
      "Hi\n",
      "3\n",
      "Hi\n",
      "4\n",
      "Hi\n",
      "End of programme\n"
     ]
    }
   ],
   "source": [
    "for i in range(0,10):\n",
    "    print(\"Hi\")\n",
    "    if i < 5:\n",
    "        print (i)\n",
    "    else:\n",
    "        break            #As soon as Break statement is executed, control jumps out of the loop.\n",
    "print(\"End of programme\")"
   ]
  },
  {
   "cell_type": "code",
   "execution_count": 36,
   "id": "ee68ffbc",
   "metadata": {},
   "outputs": [
    {
     "name": "stdout",
     "output_type": "stream",
     "text": [
      "Hi\n",
      "0\n",
      "Hi\n",
      "1\n",
      "Hi\n",
      "2\n",
      "Hi\n",
      "3\n",
      "Hi\n",
      "4\n",
      "Hi\n",
      "Hi\n",
      "Hi\n",
      "Hi\n",
      "Hi\n",
      "End of programme\n"
     ]
    }
   ],
   "source": [
    "for i in range(0,10):\n",
    "    print(\"Hi\")\n",
    "    if i < 5:\n",
    "        print (i)\n",
    "    else:\n",
    "        continue    # As sson as continue statement is execute, control jumps to next iteration.\n",
    "print(\"End of programme\")"
   ]
  },
  {
   "cell_type": "markdown",
   "id": "f6b3fbb8",
   "metadata": {},
   "source": [
    "Q11."
   ]
  },
  {
   "cell_type": "code",
   "execution_count": 38,
   "id": "117e8e04",
   "metadata": {},
   "outputs": [
    {
     "name": "stdout",
     "output_type": "stream",
     "text": [
      "0\n",
      "1\n",
      "2\n",
      "3\n",
      "4\n",
      "5\n",
      "6\n",
      "7\n",
      "8\n",
      "9\n"
     ]
    }
   ],
   "source": [
    "for i in range(10):\n",
    "    print (i)"
   ]
  },
  {
   "cell_type": "code",
   "execution_count": 40,
   "id": "f8632c81",
   "metadata": {},
   "outputs": [
    {
     "name": "stdout",
     "output_type": "stream",
     "text": [
      "0\n",
      "1\n",
      "2\n",
      "3\n",
      "4\n",
      "5\n",
      "6\n",
      "7\n",
      "8\n",
      "9\n"
     ]
    }
   ],
   "source": [
    "for i in range(0,10):\n",
    "    print(i)"
   ]
  },
  {
   "cell_type": "code",
   "execution_count": 41,
   "id": "e491e619",
   "metadata": {},
   "outputs": [
    {
     "name": "stdout",
     "output_type": "stream",
     "text": [
      "0\n",
      "1\n",
      "2\n",
      "3\n",
      "4\n",
      "5\n",
      "6\n",
      "7\n",
      "8\n",
      "9\n"
     ]
    }
   ],
   "source": [
    "for i in range(0,10,1):\n",
    "    print(i)"
   ]
  },
  {
   "cell_type": "markdown",
   "id": "5bb95707",
   "metadata": {},
   "source": [
    "Q12."
   ]
  },
  {
   "cell_type": "code",
   "execution_count": 42,
   "id": "605ee28d",
   "metadata": {},
   "outputs": [
    {
     "name": "stdout",
     "output_type": "stream",
     "text": [
      "1\n",
      "2\n",
      "3\n",
      "4\n",
      "5\n",
      "6\n",
      "7\n",
      "8\n",
      "9\n",
      "10\n"
     ]
    }
   ],
   "source": [
    "for i in range(1,11):\n",
    "    print(i)"
   ]
  },
  {
   "cell_type": "code",
   "execution_count": 46,
   "id": "541d4dcf",
   "metadata": {},
   "outputs": [
    {
     "name": "stdout",
     "output_type": "stream",
     "text": [
      "1\n",
      "2\n",
      "3\n",
      "4\n",
      "5\n",
      "6\n",
      "7\n",
      "8\n",
      "9\n",
      "10\n"
     ]
    }
   ],
   "source": [
    "l= list(range(1,11))\n",
    "i=0\n",
    "while i<10:\n",
    "    print (l[i])\n",
    "    i+=1"
   ]
  },
  {
   "cell_type": "code",
   "execution_count": 53,
   "id": "deee17d4",
   "metadata": {},
   "outputs": [],
   "source": [
    "import os"
   ]
  },
  {
   "cell_type": "markdown",
   "id": "93c1a6d1",
   "metadata": {},
   "source": [
    "Q13.\n"
   ]
  },
  {
   "cell_type": "code",
   "execution_count": 62,
   "id": "c319ab7f",
   "metadata": {},
   "outputs": [
    {
     "data": {
      "text/plain": [
       "<_io.TextIOWrapper name='spam.py' mode='w' encoding='cp1252'>"
      ]
     },
     "execution_count": 62,
     "metadata": {},
     "output_type": "execute_result"
    }
   ],
   "source": [
    "open(\"spam.py\",\"w\")"
   ]
  },
  {
   "cell_type": "code",
   "execution_count": 1,
   "id": "9479c3ff",
   "metadata": {},
   "outputs": [],
   "source": [
    "import spam"
   ]
  },
  {
   "cell_type": "code",
   "execution_count": 2,
   "id": "84fd830f",
   "metadata": {},
   "outputs": [
    {
     "data": {
      "text/plain": [
       "'hello'"
      ]
     },
     "execution_count": 2,
     "metadata": {},
     "output_type": "execute_result"
    }
   ],
   "source": [
    "spam.bacon()"
   ]
  },
  {
   "cell_type": "code",
   "execution_count": null,
   "id": "97605adf",
   "metadata": {},
   "outputs": [],
   "source": []
  }
 ],
 "metadata": {
  "kernelspec": {
   "display_name": "Python 3 (ipykernel)",
   "language": "python",
   "name": "python3"
  },
  "language_info": {
   "codemirror_mode": {
    "name": "ipython",
    "version": 3
   },
   "file_extension": ".py",
   "mimetype": "text/x-python",
   "name": "python",
   "nbconvert_exporter": "python",
   "pygments_lexer": "ipython3",
   "version": "3.9.7"
  }
 },
 "nbformat": 4,
 "nbformat_minor": 5
}
