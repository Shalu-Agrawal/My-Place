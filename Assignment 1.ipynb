{
 "cells": [
  {
   "cell_type": "markdown",
   "id": "5aabf5b4",
   "metadata": {},
   "source": [
    "Q1."
   ]
  },
  {
   "cell_type": "raw",
   "id": "3efde677",
   "metadata": {},
   "source": [
    "Values: 'hello', -87.8, 6\n",
    "Expressions: none."
   ]
  },
  {
   "cell_type": "markdown",
   "id": "e81ccb73",
   "metadata": {},
   "source": [
    "Q2."
   ]
  },
  {
   "cell_type": "raw",
   "id": "b75da1e2",
   "metadata": {},
   "source": [
    "String is a datatype for characters and variable is a name given to data we want to store that can be string, integer, float values etc"
   ]
  },
  {
   "cell_type": "code",
   "execution_count": 5,
   "id": "1d145bd4",
   "metadata": {},
   "outputs": [],
   "source": [
    "a= \"shalu\" # here a is variable that stores string\n"
   ]
  },
  {
   "cell_type": "markdown",
   "id": "563cfe6a",
   "metadata": {},
   "source": [
    "Q3."
   ]
  },
  {
   "cell_type": "raw",
   "id": "5eb11063",
   "metadata": {},
   "source": [
    "a.int: Datatype for integers."
   ]
  },
  {
   "cell_type": "code",
   "execution_count": 2,
   "id": "cdfb12e5",
   "metadata": {},
   "outputs": [],
   "source": [
    "a = 5"
   ]
  },
  {
   "cell_type": "raw",
   "id": "64f60444",
   "metadata": {},
   "source": [
    "b.Dictionary: Datatype for key and value pair."
   ]
  },
  {
   "cell_type": "code",
   "execution_count": 3,
   "id": "5c19d95f",
   "metadata": {},
   "outputs": [],
   "source": [
    "a = {'a':1,'b':2,'c':3}"
   ]
  },
  {
   "cell_type": "raw",
   "id": "68fcc7c8",
   "metadata": {},
   "source": [
    "c. list: Datatype for list of values that can be integer, string, dictionary."
   ]
  },
  {
   "cell_type": "code",
   "execution_count": 4,
   "id": "b694aa0d",
   "metadata": {},
   "outputs": [],
   "source": [
    "a=[1,\"shalu\",6+5j]"
   ]
  },
  {
   "cell_type": "markdown",
   "id": "d5d34320",
   "metadata": {},
   "source": [
    "Q4."
   ]
  },
  {
   "cell_type": "raw",
   "id": "ceb008e2",
   "metadata": {},
   "source": [
    "Expressions by combining objects and operators.\n",
    "They perform some sort of computation\n"
   ]
  },
  {
   "cell_type": "code",
   "execution_count": 6,
   "id": "0f181ce6",
   "metadata": {},
   "outputs": [],
   "source": [
    "a = 4+5 \n",
    "a= !True"
   ]
  },
  {
   "cell_type": "markdown",
   "id": "48dca5d9",
   "metadata": {},
   "source": [
    "Q5."
   ]
  },
  {
   "cell_type": "raw",
   "id": "0d4b87fd",
   "metadata": {},
   "source": [
    "An expression evaluates to a value. A statement does something. Statements represent an action or command e.g print statements, assignment statements. Expression is a combination of variables, operations and values that yields a result value."
   ]
  },
  {
   "cell_type": "code",
   "execution_count": 7,
   "id": "444242bd",
   "metadata": {},
   "outputs": [],
   "source": [
    "spam = 10             #statement\n",
    "spam = 10*10          #expression\n"
   ]
  },
  {
   "cell_type": "markdown",
   "id": "27829b9e",
   "metadata": {},
   "source": [
    "Q6."
   ]
  },
  {
   "cell_type": "code",
   "execution_count": 8,
   "id": "6b4ffeb9",
   "metadata": {},
   "outputs": [
    {
     "data": {
      "text/plain": [
       "22"
      ]
     },
     "execution_count": 8,
     "metadata": {},
     "output_type": "execute_result"
    }
   ],
   "source": [
    "bacon = 22\n",
    "bacon+1\n",
    "bacon"
   ]
  },
  {
   "cell_type": "markdown",
   "id": "937527cb",
   "metadata": {},
   "source": [
    "Q7."
   ]
  },
  {
   "cell_type": "code",
   "execution_count": 9,
   "id": "db0d566d",
   "metadata": {},
   "outputs": [
    {
     "data": {
      "text/plain": [
       "'spamspamspam'"
      ]
     },
     "execution_count": 9,
     "metadata": {},
     "output_type": "execute_result"
    }
   ],
   "source": [
    "'spam'+'spamspam'"
   ]
  },
  {
   "cell_type": "code",
   "execution_count": 10,
   "id": "9e6569b1",
   "metadata": {},
   "outputs": [
    {
     "data": {
      "text/plain": [
       "'spamspamspam'"
      ]
     },
     "execution_count": 10,
     "metadata": {},
     "output_type": "execute_result"
    }
   ],
   "source": [
    "'spam'*3"
   ]
  },
  {
   "cell_type": "markdown",
   "id": "7931d89a",
   "metadata": {},
   "source": [
    "Q8."
   ]
  },
  {
   "cell_type": "raw",
   "id": "bc222337",
   "metadata": {},
   "source": [
    "There are certain rules in python to define a variable.\n",
    "1. letters, numbers and underscore can be used for writing variable names in Python. \n",
    "   For example, eggs,num,num_1,num1 etc \n",
    "2. A variable name must start with a letter or underscore. \n",
    "3. A python variable name cannot start with a number. \n",
    "   For example,100 is invalid variable name. But eggs9 is valid variable names in Python.\n",
    "Variable Names are case-sensitive. It means that pay, PAY and Pay are three different variable names.\n",
    "Whitespace is not allowed in a variable name. Therefore, if we write ‘first name’ ,it will be an invalid variable name. ...\n",
    "Special characters are not allowed in a variable name. For example pay@ is invalid variable name.\n",
    "Reserved words are not allowed as variable names.\n",
    "For example for is inavalid variable name, beacause for is a reserved word in Python. It represents a loop."
   ]
  },
  {
   "cell_type": "markdown",
   "id": "2d3db664",
   "metadata": {},
   "source": [
    "Q9."
   ]
  },
  {
   "cell_type": "code",
   "execution_count": 12,
   "id": "36943248",
   "metadata": {},
   "outputs": [],
   "source": [
    "a = 5555.345\n"
   ]
  },
  {
   "cell_type": "code",
   "execution_count": 13,
   "id": "b0e201a5",
   "metadata": {},
   "outputs": [
    {
     "data": {
      "text/plain": [
       "5555"
      ]
     },
     "execution_count": 13,
     "metadata": {},
     "output_type": "execute_result"
    }
   ],
   "source": [
    "int(a)"
   ]
  },
  {
   "cell_type": "code",
   "execution_count": 14,
   "id": "387005d1",
   "metadata": {},
   "outputs": [
    {
     "data": {
      "text/plain": [
       "5555.345"
      ]
     },
     "execution_count": 14,
     "metadata": {},
     "output_type": "execute_result"
    }
   ],
   "source": [
    "float(a)"
   ]
  },
  {
   "cell_type": "code",
   "execution_count": 15,
   "id": "03cf176e",
   "metadata": {},
   "outputs": [
    {
     "data": {
      "text/plain": [
       "'5555.345'"
      ]
     },
     "execution_count": 15,
     "metadata": {},
     "output_type": "execute_result"
    }
   ],
   "source": [
    "str(a)"
   ]
  },
  {
   "cell_type": "markdown",
   "id": "2349ea27",
   "metadata": {},
   "source": [
    "Q10."
   ]
  },
  {
   "cell_type": "raw",
   "id": "f6ec6593",
   "metadata": {},
   "source": [
    "We cannot add different datatypes.\n",
    "'I have eaten'+99+\"burritos\"\n",
    "We cannot add string and integer.\n",
    "We can fix this by converting int to string."
   ]
  },
  {
   "cell_type": "code",
   "execution_count": 17,
   "id": "cb7699d4",
   "metadata": {},
   "outputs": [
    {
     "data": {
      "text/plain": [
       "'I have eaten 99 burritos'"
      ]
     },
     "execution_count": 17,
     "metadata": {},
     "output_type": "execute_result"
    }
   ],
   "source": [
    "'I have eaten'+ \" 99 \" +\"burritos\""
   ]
  },
  {
   "cell_type": "code",
   "execution_count": null,
   "id": "b85cd412",
   "metadata": {},
   "outputs": [],
   "source": []
  }
 ],
 "metadata": {
  "kernelspec": {
   "display_name": "Python 3 (ipykernel)",
   "language": "python",
   "name": "python3"
  },
  "language_info": {
   "codemirror_mode": {
    "name": "ipython",
    "version": 3
   },
   "file_extension": ".py",
   "mimetype": "text/x-python",
   "name": "python",
   "nbconvert_exporter": "python",
   "pygments_lexer": "ipython3",
   "version": "3.9.7"
  }
 },
 "nbformat": 4,
 "nbformat_minor": 5
}
