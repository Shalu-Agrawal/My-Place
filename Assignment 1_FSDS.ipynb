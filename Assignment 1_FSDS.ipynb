{
 "cells": [
  {
   "cell_type": "markdown",
   "id": "c6249efc",
   "metadata": {},
   "source": [
    "Q1."
   ]
  },
  {
   "cell_type": "markdown",
   "id": "ccac144c",
   "metadata": {},
   "source": [
    "Values: 'hello', -87.8, 6\n",
    "Expressions: none."
   ]
  },
  {
   "cell_type": "markdown",
   "id": "7f203e1c",
   "metadata": {},
   "source": [
    "Q2."
   ]
  },
  {
   "cell_type": "markdown",
   "id": "8f29dd77",
   "metadata": {},
   "source": [
    "String is a datatype for characters and variable is a name given to data we want to store that can be string, integer, float values etc"
   ]
  },
  {
   "cell_type": "code",
   "execution_count": 18,
   "id": "bc653b87",
   "metadata": {},
   "outputs": [],
   "source": [
    "a= \"shalu\" # here a is variable that stores string\n"
   ]
  },
  {
   "cell_type": "markdown",
   "id": "d96418cb",
   "metadata": {},
   "source": [
    "Q3."
   ]
  },
  {
   "cell_type": "markdown",
   "id": "f7543200",
   "metadata": {},
   "source": [
    "a.int: Datatype for integers."
   ]
  },
  {
   "cell_type": "code",
   "execution_count": 19,
   "id": "ed048849",
   "metadata": {},
   "outputs": [],
   "source": [
    "a = 5"
   ]
  },
  {
   "cell_type": "markdown",
   "id": "b0c87f34",
   "metadata": {},
   "source": [
    "b.Dictionary: Datatype for key and value pair."
   ]
  },
  {
   "cell_type": "code",
   "execution_count": 20,
   "id": "ea1e144f",
   "metadata": {},
   "outputs": [],
   "source": [
    "a = {'a':1,'b':2,'c':3}"
   ]
  },
  {
   "cell_type": "markdown",
   "id": "6def8e04",
   "metadata": {},
   "source": [
    "c. list: Datatype for list of values that can be integer, string, dictionary."
   ]
  },
  {
   "cell_type": "code",
   "execution_count": 21,
   "id": "9628f9e7",
   "metadata": {},
   "outputs": [],
   "source": [
    "a=[1,\"shalu\",6+5j]"
   ]
  },
  {
   "cell_type": "markdown",
   "id": "0d2861a6",
   "metadata": {},
   "source": [
    "Q4."
   ]
  },
  {
   "cell_type": "markdown",
   "id": "f4f7e79e",
   "metadata": {},
   "source": [
    "Expressions by combining objects and operators.\n",
    "They perform some sort of computation\n"
   ]
  },
  {
   "cell_type": "code",
   "execution_count": 22,
   "id": "31eb17b9",
   "metadata": {},
   "outputs": [],
   "source": [
    "a = 4+5 \n",
    "a= !True"
   ]
  },
  {
   "cell_type": "markdown",
   "id": "0d395d38",
   "metadata": {},
   "source": [
    "Q5."
   ]
  },
  {
   "cell_type": "markdown",
   "id": "3351327b",
   "metadata": {},
   "source": [
    "An expression evaluates to a value. A statement does something. Statements represent an action or command e.g print statements, assignment statements. Expression is a combination of variables, operations and values that yields a result value."
   ]
  },
  {
   "cell_type": "code",
   "execution_count": 23,
   "id": "6f9806b8",
   "metadata": {},
   "outputs": [],
   "source": [
    "spam = 10             #statement\n",
    "spam = 10*10          #expression\n"
   ]
  },
  {
   "cell_type": "markdown",
   "id": "25497dc1",
   "metadata": {},
   "source": [
    "Q6."
   ]
  },
  {
   "cell_type": "code",
   "execution_count": 24,
   "id": "fc3e6a59",
   "metadata": {},
   "outputs": [
    {
     "data": {
      "text/plain": [
       "22"
      ]
     },
     "execution_count": 24,
     "metadata": {},
     "output_type": "execute_result"
    }
   ],
   "source": [
    "bacon = 22\n",
    "bacon+1\n",
    "bacon"
   ]
  },
  {
   "cell_type": "markdown",
   "id": "0a99d80d",
   "metadata": {},
   "source": [
    "Q7."
   ]
  },
  {
   "cell_type": "code",
   "execution_count": 25,
   "id": "59a82049",
   "metadata": {},
   "outputs": [
    {
     "data": {
      "text/plain": [
       "'spamspamspam'"
      ]
     },
     "execution_count": 25,
     "metadata": {},
     "output_type": "execute_result"
    }
   ],
   "source": [
    "'spam'+'spamspam'"
   ]
  },
  {
   "cell_type": "code",
   "execution_count": 26,
   "id": "a91840e0",
   "metadata": {},
   "outputs": [
    {
     "data": {
      "text/plain": [
       "'spamspamspam'"
      ]
     },
     "execution_count": 26,
     "metadata": {},
     "output_type": "execute_result"
    }
   ],
   "source": [
    "'spam'*3"
   ]
  },
  {
   "cell_type": "markdown",
   "id": "9d2de6f0",
   "metadata": {},
   "source": [
    "Q8."
   ]
  },
  {
   "cell_type": "markdown",
   "id": "85ac125a",
   "metadata": {},
   "source": [
    "There are certain rules in python to define a variable.\n",
    "1. letters, numbers and underscore can be used for writing variable names in Python. \n",
    "   For example, eggs,num,num_1,num1 etc \n",
    "2. A variable name must start with a letter or underscore. \n",
    "3. A python variable name cannot start with a number. \n",
    "   For example,100 is invalid variable name. But eggs9 is valid variable names in Python.\n",
    "Variable Names are case-sensitive. It means that pay, PAY and Pay are three different variable names.\n",
    "Whitespace is not allowed in a variable name. Therefore, if we write ‘first name’ ,it will be an invalid variable name. ...\n",
    "Special characters are not allowed in a variable name. For example pay@ is invalid variable name.\n",
    "Reserved words are not allowed as variable names.\n",
    "For example for is inavalid variable name, beacause for is a reserved word in Python. It represents a loop."
   ]
  },
  {
   "cell_type": "markdown",
   "id": "5c74e843",
   "metadata": {},
   "source": [
    "Q9."
   ]
  },
  {
   "cell_type": "code",
   "execution_count": 27,
   "id": "a270e005",
   "metadata": {},
   "outputs": [],
   "source": [
    "a = 5555.345\n"
   ]
  },
  {
   "cell_type": "code",
   "execution_count": 28,
   "id": "782841df",
   "metadata": {},
   "outputs": [
    {
     "data": {
      "text/plain": [
       "5555"
      ]
     },
     "execution_count": 28,
     "metadata": {},
     "output_type": "execute_result"
    }
   ],
   "source": [
    "int(a)"
   ]
  },
  {
   "cell_type": "code",
   "execution_count": 29,
   "id": "c3c74940",
   "metadata": {},
   "outputs": [
    {
     "data": {
      "text/plain": [
       "5555.345"
      ]
     },
     "execution_count": 29,
     "metadata": {},
     "output_type": "execute_result"
    }
   ],
   "source": [
    "float(a)"
   ]
  },
  {
   "cell_type": "code",
   "execution_count": 30,
   "id": "af8fbc61",
   "metadata": {},
   "outputs": [
    {
     "data": {
      "text/plain": [
       "'5555.345'"
      ]
     },
     "execution_count": 30,
     "metadata": {},
     "output_type": "execute_result"
    }
   ],
   "source": [
    "str(a)"
   ]
  },
  {
   "cell_type": "markdown",
   "id": "db816f8f",
   "metadata": {},
   "source": [
    "Q10."
   ]
  },
  {
   "cell_type": "markdown",
   "id": "5a38bfb4",
   "metadata": {},
   "source": [
    "We cannot add different datatypes.\n",
    "'I have eaten'+99+\"burritos\"\n",
    "We cannot add string and integer.\n",
    "We can fix this by converting int to string."
   ]
  },
  {
   "cell_type": "code",
   "execution_count": 31,
   "id": "2d4b113c",
   "metadata": {},
   "outputs": [
    {
     "data": {
      "text/plain": [
       "'I have eaten 99 burritos'"
      ]
     },
     "execution_count": 31,
     "metadata": {},
     "output_type": "execute_result"
    }
   ],
   "source": [
    "'I have eaten'+ \" 99 \" +\"burritos\""
   ]
  },
  {
   "cell_type": "code",
   "execution_count": null,
   "id": "29837ea5",
   "metadata": {},
   "outputs": [],
   "source": []
  }
 ],
 "metadata": {
  "kernelspec": {
   "display_name": "Python 3 (ipykernel)",
   "language": "python",
   "name": "python3"
  },
  "language_info": {
   "codemirror_mode": {
    "name": "ipython",
    "version": 3
   },
   "file_extension": ".py",
   "mimetype": "text/x-python",
   "name": "python",
   "nbconvert_exporter": "python",
   "pygments_lexer": "ipython3",
   "version": "3.9.7"
  }
 },
 "nbformat": 4,
 "nbformat_minor": 5
}
